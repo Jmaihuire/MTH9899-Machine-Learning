{
 "cells": [
  {
   "cell_type": "markdown",
   "metadata": {},
   "source": [
    "# Problem 1 Implement a simple regression tree. \n",
    "We will use point estimates in the leaves\n",
    "and use the CART Variance Reduction measure for a splitting criteria.\n",
    "\n",
    "$$ VR(S) = var S − \\sum_{i=0}^{K}{\\frac{|S_i|}{|S|}var S_i}$$\n",
    "Use the attached code as your starting point.\n",
    "\n"
   ]
  },
  {
   "cell_type": "code",
   "execution_count": 1,
   "metadata": {
    "collapsed": true
   },
   "outputs": [],
   "source": [
    "import matplotlib.pyplot as plt\n",
    "import numpy as np"
   ]
  },
  {
   "cell_type": "code",
   "execution_count": 2,
   "metadata": {
    "collapsed": true
   },
   "outputs": [],
   "source": [
    "def generate_test_data(N):\n",
    "    x = np.random.randn(N, 5)\n",
    "    y = np.where(x[:, 0] > 0, 2, 5)\n",
    "    y = y + np.where(x[:, 1] > 0, -3, 3)\n",
    "    y = y + np.where(x[:, 2] > 0, 0, 0.5)\n",
    "    y = y + 10 * np.random.randn(N)\n",
    "    return x,y \n",
    "\n",
    "class TreeNode:\n",
    "    def predict(x, y):\n",
    "        assert False\n",
    "\n",
    "    def depth(self):\n",
    "        assert False\n",
    "\n",
    "class BranchNode(TreeNode):\n",
    "    def __init__(self, left, right, split_var_index, split_var_value):\n",
    "        self.left = left\n",
    "        self.right = right\n",
    "        self.split_var_index = split_var_index\n",
    "        self.split_var_value = split_var_value\n",
    "\n",
    "    def predict(self, x):\n",
    "        svar = x[:, self.split_var_index]\n",
    "        is_left = svar < self.split_var_value\n",
    "        leftx = x[is_left]\n",
    "        rightx = x[~is_left]\n",
    "\n",
    "        rv = np.zeros(x.shape[0])\n",
    "        rv[is_left] = self.left.predict(leftx)\n",
    "        rv[~is_left] = self.right.predict(rightx)\n",
    "\n",
    "        return rv\n",
    "\n",
    "    def depth(self):\n",
    "        return 1 + max(self.left.depth(), self.right.depth())\n",
    "\n",
    "class LeafNode(TreeNode):\n",
    "    def __init__(self, mu):\n",
    "        self.mu = mu\n",
    "\n",
    "    def predict(self, x):\n",
    "        return np.repeat(self.mu, x.shape[0])\n",
    "\n",
    "    def depth(self):\n",
    "        return 1\n",
    "\n",
    "class RegressionTree:\n",
    "    def __init__(self, max_depth, min_points_in_leaf):\n",
    "        self.max_depth = max_depth\n",
    "        self.min_points_in_leaf = min_points_in_leaf\n",
    "\n",
    "    def predict(self, x):\n",
    "        assert self.fitted\n",
    "        return self.root.predict(x)\n",
    "\n",
    "    def fit(self, x, y):\n",
    "        self.fitted = True\n",
    "        self.root = self.fit_internal(x, y, 1)\n",
    "\n",
    "    def fit_internal(self, x, y, current_depth):\n",
    "        # implement this\n",
    "        num_features = x.shape[1]\n",
    "        num_rows = x.shape[0]\n",
    "        var_orig = np.var(y)\n",
    "\n",
    "        if current_depth == self.max_depth:\n",
    "            return LeafNode(np.mean(y))\n",
    "\n",
    "        best_variable = None\n",
    "        best_var_reduction = 0\n",
    "        best_split_point = None\n",
    "        # Here, we have to loop over all features and figure out which one\n",
    "        # might be splittable, and if it is, how to split it to maximize Variance Reduction\n",
    "        for i in range(num_features):\n",
    "            # a lot of code goes here\n",
    "            x_i = x[:,i]\n",
    "            x_i_min = np.min(x_i)\n",
    "            bin_size = (np.max(x_i) - x_i_min)/5\n",
    "            split_point_list = [x_i_min + i * bin_size for i in range(1,5)]\n",
    "            for split_point in split_point_list:\n",
    "                is_left = x_i < split_point\n",
    "                left_size = len(x_i[is_left])\n",
    "                right_size = len(x_i[~is_left])\n",
    "                total_size = left_size + right_size\n",
    "                if left_size < self.min_points_in_leaf or right_size < self.min_points_in_leaf:\n",
    "                    # not splittable\n",
    "                    continue\n",
    "                else:\n",
    "                    var_reduction = var_orig - left_size / total_size * np.var(y[is_left]) - right_size / total_size * np.var(y[~is_left])\n",
    "                    if best_var_reduction < var_reduction:\n",
    "                        best_var_reduction = var_reduction\n",
    "                        best_variable = i\n",
    "                        best_split_point = split_point\n",
    "\n",
    "        \n",
    "        if best_variable is None:\n",
    "            return LeafNode(np.mean(y))\n",
    "        else:\n",
    "            #return BranchNode(....) FILL THIS IN\n",
    "            is_left = x[:, best_variable] < best_split_point\n",
    "            return BranchNode(self.fit_internal(x[is_left,:], y[is_left],current_depth+1), \n",
    "                              self.fit_internal(x[~is_left,:], y[~is_left],current_depth+1),\n",
    "                              best_variable, best_split_point)\n",
    "\n",
    "    def depth(self):\n",
    "        return self.root.depth()"
   ]
  },
  {
   "cell_type": "markdown",
   "metadata": {},
   "source": [
    "## In and Out-sample test against different max depths and report a graph of depth vs  $R^2$\n",
    "- For simplicity’s sake, divide each attribute up into 5 equal sized bins, and test each end point of a bin as a potential split point. Test your algorithm on a 50000 row dataset generated using the attached generate test data function. Test against different max depths and report a graph of depth vs $R^2$. Now, on the same graph, plot $R^2$ where you are using a new dataset, generated independently of the one used to train the tree. Does it look different? Why?"
   ]
  },
  {
   "cell_type": "markdown",
   "metadata": {},
   "source": [
    "## Solution: \n",
    "- The graph of R square vas max depth looks different between in sample and out sample data when we augmented the noise with a multiply of 10.\n",
    "Because as the max depth of regression tree grows, it tends to overfit the noise generated in train set. In consequence, it doesn't generalize well to the independently generated test set."
   ]
  },
  {
   "cell_type": "code",
   "execution_count": 3,
   "metadata": {
    "scrolled": true
   },
   "outputs": [
    {
     "data": {
      "image/png": "[encoded data removed]",
      "text/plain": [
       "<matplotlib.figure.Figure at 0x2416b9e90f0>"
      ]
     },
     "metadata": {},
     "output_type": "display_data"
    }
   ],
   "source": [
    "x_in, y_in = generate_test_data(50000)\n",
    "x_out, y_out = generate_test_data(50000)\n",
    "\n",
    "R_square_in = []\n",
    "R_square_out = []\n",
    "for i in range(2,20):\n",
    "    Rtree = RegressionTree(i, 100)\n",
    "    Rtree.fit(x_in,y_in)\n",
    "    R_square_in.append(1 - np.var(Rtree.predict(x_in) - y_in) / np.var(y_in))\n",
    "    R_square_out.append(1 - np.var(Rtree.predict(x_out) - y_out) / np.var(y_out))\n",
    "    \n",
    "plt.plot(np.arange(2,20), R_square_in, '-bx', label=\"in sample R^2\")\n",
    "plt.plot(np.arange(2,20), R_square_out, '-rx', label=\"out sample R^2\")\n",
    "plt.xlabel(\"Max Depths\")\n",
    "plt.ylabel(\"R^2\", rotation= 0)\n",
    "plt.title(\"In and Out sample R square vs Max Depths\")\n",
    "plt.legend()\n",
    "plt.show()"
   ]
  },
  {
   "cell_type": "markdown",
   "metadata": {},
   "source": [
    "## Use cross-validation when calculating variance reduction\n",
    "\n",
    "- One way to potentially improve this and avoid overfitting would be to use crossvalidation when calculating variance reduction. Modify your tree to have the constructor to take a num_cv_folds parameter. If this value is > 1, then calculate the variance reduction on a cross-validated dataset instead, ie for each candidate split point you are considering, you should do a CV measurement of the variance reduction. ONLY SPLIT if the CV Variance Reduction is positive. Repeat the experiments from the first part of the question and discuss any differences."
   ]
  },
  {
   "cell_type": "markdown",
   "metadata": {},
   "source": [
    "## Solution:\n",
    "- After cross validation, we can see that there is no longer big difference between in sample and out sample R square."
   ]
  },
  {
   "cell_type": "code",
   "execution_count": 4,
   "metadata": {
    "collapsed": true
   },
   "outputs": [],
   "source": [
    "class RegressionTree_CV:\n",
    "    def __init__(self, max_depth, min_points_in_leaf, num_cv_folds):\n",
    "        self.max_depth = max_depth\n",
    "        self.min_points_in_leaf = min_points_in_leaf\n",
    "        self.num_cv_folds = num_cv_folds\n",
    "\n",
    "    def predict(self, x):\n",
    "        assert self.fitted\n",
    "        return self.root.predict(x)\n",
    "\n",
    "    def fit(self, x, y):\n",
    "        self.fitted = True\n",
    "        self.root = self.fit_internal(x, y, 1)\n",
    "\n",
    "    def fit_internal(self, x, y, current_depth):\n",
    "        # implement this\n",
    "        num_features = x.shape[1]\n",
    "        num_rows = x.shape[0]\n",
    "        var_orig = np.var(y)\n",
    "\n",
    "        if current_depth == self.max_depth:\n",
    "            return LeafNode(np.mean(y))\n",
    "\n",
    "        best_variable = None\n",
    "        best_var_reduction = 0\n",
    "        best_split_point = None\n",
    "        # Here, we have to loop over all features and figure out which one\n",
    "        # might be splittable, and if it is, how to split it to maximize Variance Reduction\n",
    "        for i in range(num_features):\n",
    "            # a lot of code goes here\n",
    "            x_i = x[:,i]     \n",
    "            x_i_min = np.min(x_i)\n",
    "            bin_size = (np.max(x_i) - x_i_min) / 5\n",
    "            split_point_list = [x_i_min + m * bin_size for m in range(1,5)]\n",
    "            if self.num_cv_folds > 1:\n",
    "                CV_measure = np.zeros(4)\n",
    "                x_i_dividable = x_i[:int(num_rows / self.num_cv_folds)*self.num_cv_folds]\n",
    "                y_dividable = y[:int(num_rows / self.num_cv_folds)*self.num_cv_folds]\n",
    "                x_k_list = np.split(x_i_dividable, self.num_cv_folds)\n",
    "                y_k_list = np.split(y_dividable, self.num_cv_folds)\n",
    "                for k in range(self.num_cv_folds):\n",
    "                    x_cv = x_k_list[k]\n",
    "                    y_cv = y_k_list[k]\n",
    "                    x_train = np.vstack(x_k_list[:k]+x_k_list[(k+1):])\n",
    "                    x_train_min = np.min(x_train)\n",
    "                    bin_size = (np.max(x_train) - x_train_min) / 5\n",
    "                    split_point_list_for_train = [x_train_min + m * bin_size for m in range(1,5)]\n",
    "                    j = 0\n",
    "                    for split_point in split_point_list_for_train:\n",
    "                        is_left = x_cv < split_point\n",
    "                        left_size = len(x_cv[is_left])\n",
    "                        right_size = len(x_cv[~is_left])\n",
    "                        total_size = left_size + right_size\n",
    "                        if left_size < self.min_points_in_leaf or right_size < self.min_points_in_leaf:\n",
    "                            # not splittable\n",
    "                            continue\n",
    "                        else:      \n",
    "                            CV_measure[j] += var_orig - left_size / total_size * np.var(y_cv[is_left]) - right_size / total_size * np.var(y_cv[~is_left])\n",
    "                            j += 1\n",
    "                CV_measure = CV_measure / k\n",
    "                var_reduction = np.max(CV_measure)\n",
    "                if best_var_reduction < var_reduction:\n",
    "                    best_var_reduction = var_reduction\n",
    "                    best_variable = i\n",
    "                    best_split_point = split_point_list[np.argmax(CV_measure)] \n",
    "                \n",
    "            else:\n",
    "                for split_point in split_point_list:\n",
    "                    is_left = x_i < split_point\n",
    "                    left_size = len(x_i[is_left])\n",
    "                    right_size = len(x_i[~is_left])\n",
    "                    total_size = left_size + right_size\n",
    "                    if left_size < self.min_points_in_leaf or right_size < self.min_points_in_leaf:\n",
    "                        # not splittable\n",
    "                        continue\n",
    "                    else:      \n",
    "                        var_reduction = var_orig - left_size / total_size * np.var(y[is_left]) - right_size / total_size * np.var(y[~is_left])\n",
    "                        if best_var_reduction < var_reduction:\n",
    "                            best_var_reduction = var_reduction\n",
    "                            best_variable = i\n",
    "                            best_split_point = split_point\n",
    "\n",
    "        \n",
    "        if best_variable is None:\n",
    "            return LeafNode(np.mean(y))\n",
    "        else:\n",
    "            #return BranchNode(....) FILL THIS IN\n",
    "            is_left = x[:, best_variable] < best_split_point\n",
    "            return BranchNode(self.fit_internal(x[is_left,:], y[is_left],current_depth+1), \n",
    "                              self.fit_internal(x[~is_left,:], y[~is_left],current_depth+1),\n",
    "                              best_variable, best_split_point)\n",
    "\n",
    "    def depth(self):\n",
    "        return self.root.depth()"
   ]
  },
  {
   "cell_type": "code",
   "execution_count": 6,
   "metadata": {},
   "outputs": [
    {
     "data": {
      "image/png": "[encoded data removed]",
      "text/plain": [
       "<matplotlib.figure.Figure at 0x2416bf9c518>"
      ]
     },
     "metadata": {},
     "output_type": "display_data"
    }
   ],
   "source": [
    "x_in, y_in = generate_test_data(50000)\n",
    "x_out, y_out = generate_test_data(50000)\n",
    "\n",
    "R_square_in = []\n",
    "R_square_out = []\n",
    "for i in range(2,20):\n",
    "    Rtree = RegressionTree_CV(i, 100, 10)\n",
    "    Rtree.fit(x_in,y_in)\n",
    "    R_square_in.append(1 - np.var(Rtree.predict(x_in) - y_in) / np.var(y_in))\n",
    "    R_square_out.append(1 - np.var(Rtree.predict(x_out) - y_out) / np.var(y_out))\n",
    "    \n",
    "plt.plot(np.arange(2,20), R_square_in, '-bx', label=\"in sample R^2\")\n",
    "plt.plot(np.arange(2,20), R_square_out, '-rx', label=\"out sample R^2\")\n",
    "plt.xlabel(\"Max Depths\")\n",
    "plt.ylabel(\"R^2\", rotation = 0)\n",
    "plt.title(\"In and Out sample R square vs Max Depths (with cross validation)\")\n",
    "plt.legend()\n",
    "plt.show()"
   ]
  }
 ],
 "metadata": {
  "hide_input": false,
  "kernelspec": {
   "display_name": "Python 3",
   "language": "python",
   "name": "python3"
  },
  "language_info": {
   "codemirror_mode": {
    "name": "ipython",
    "version": 3
   },
   "file_extension": ".py",
   "mimetype": "text/x-python",
   "name": "python",
   "nbconvert_exporter": "python",
   "pygments_lexer": "ipython3",
   "version": "3.6.5"
  },
  "latex_envs": {
   "LaTeX_envs_menu_present": true,
   "autoclose": false,
   "autocomplete": true,
   "bibliofile": "biblio.bib",
   "cite_by": "apalike",
   "current_citInitial": 1,
   "eqLabelWithNumbers": true,
   "eqNumInitial": 1,
   "hotkeys": {
    "equation": "Ctrl-E",
    "itemize": "Ctrl-I"
   },
   "labels_anchors": false,
   "latex_user_defs": false,
   "report_style_numbering": false,
   "user_envs_cfg": false
  },
  "toc": {
   "base_numbering": 1,
   "nav_menu": {},
   "number_sections": true,
   "sideBar": true,
   "skip_h1_title": false,
   "title_cell": "Table of Contents",
   "title_sidebar": "Contents",
   "toc_cell": false,
   "toc_position": {},
   "toc_section_display": true,
   "toc_window_display": false
  },
  "varInspector": {
   "cols": {
    "lenName": 16,
    "lenType": 16,
    "lenVar": 40
   },
   "kernels_config": {
    "python": {
     "delete_cmd_postfix": "",
     "delete_cmd_prefix": "del ",
     "library": "var_list.py",
     "varRefreshCmd": "print(var_dic_list())"
    },
    "r": {
     "delete_cmd_postfix": ") ",
     "delete_cmd_prefix": "rm(",
     "library": "var_list.r",
     "varRefreshCmd": "cat(var_dic_list()) "
    }
   },
   "types_to_exclude": [
    "module",
    "function",
    "builtin_function_or_method",
    "instance",
    "_Feature"
   ],
   "window_display": false
  }
 },
 "nbformat": 4,
 "nbformat_minor": 2
}
